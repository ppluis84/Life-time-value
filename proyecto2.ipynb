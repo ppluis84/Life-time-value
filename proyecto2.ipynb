{
 "cells": [
  {
   "cell_type": "markdown",
   "metadata": {},
   "source": [
    "\n",
    "<div style=\"align: center;\">\n",
    "    <br>\n",
    "    <img src=\"https://media.licdn.com/dms/image/v2/D4D12AQFVzjRWeNpA7w/article-cover_image-shrink_720_1280/article-cover_image-shrink_720_1280/0/1711408967531?e=2147483647&v=beta&t=5MHJ_rGqMoarKpOy6DkK24xaJO01VPyj_piB96MxaLI\" style=\"display:block; margin:auto; width:95%; height:250px;\">\n",
    "    <br>\n",
    "    <h1 align = 'center'>Segmentación de una base de datos de clientes para ayudar al retailer a mejorar sus resultados desarrollando sus diferentes tipologías de clientes.</h1>\n",
    "</div>\n",
    "<div>\n",
    "    <h3 id=\"INDICE\">INDICE</h3>\n",
    "    <ul>\n",
    "        <li><a href=\"#Exploracion_de_los_datos\">Exploración de los datos</a></li>\n",
    "        <li><a href=\"#Constuccion_de_indicadores\">Construcción de indicadores</a></li>\n",
    "        <li><a href=\"#ELaboracion_Life_Time_Value\">Elaboración de Live Time Value</a></li>\n",
    "        <li><a href=\"#Extraccion_de_informacion_clave\">Extracción de información clave</a></li>\n",
    "    </ul>\n",
    "</div>\n"
   ]
  },
  {
   "cell_type": "markdown",
   "metadata": {},
   "source": [
    "<div>\n",
    "    <h1 align = 'center' id=\"Exploracion_de_los_datos\">Exploración de los datos</h1>\n",
    "    <h3><a href=\"#INDICE\">INDICE</a></h3>\n",
    "</div>"
   ]
  },
  {
   "cell_type": "code",
   "execution_count": 2,
   "metadata": {},
   "outputs": [],
   "source": [
    "import pandas as pd\n",
    "# Subimos dos data frames\n",
    "# Dataframe de ventas\n",
    "df = pd.read_csv('VENTAS DE LOS CLIENTES DE LA MUESTRA.csv', delimiter='\\t')\n",
    "# Dataframe de tipologias de clientes\n",
    "df_tipologias = pd.read_csv('TIPOLOGIAS Y ACTIVIDAD DEL CLIENTE.csv', delimiter='\\t')"
   ]
  },
  {
   "cell_type": "code",
   "execution_count": 19,
   "metadata": {},
   "outputs": [
    {
     "data": {
      "text/html": [
       "<div>\n",
       "<style scoped>\n",
       "    .dataframe tbody tr th:only-of-type {\n",
       "        vertical-align: middle;\n",
       "    }\n",
       "\n",
       "    .dataframe tbody tr th {\n",
       "        vertical-align: top;\n",
       "    }\n",
       "\n",
       "    .dataframe thead th {\n",
       "        text-align: right;\n",
       "    }\n",
       "</style>\n",
       "<table border=\"1\" class=\"dataframe\">\n",
       "  <thead>\n",
       "    <tr style=\"text-align: right;\">\n",
       "      <th></th>\n",
       "      <th>TIPOLOGIA DE CLIENTE</th>\n",
       "      <th>ACTIVIDAD</th>\n",
       "      <th>CUSTOMER ID</th>\n",
       "    </tr>\n",
       "  </thead>\n",
       "  <tbody>\n",
       "    <tr>\n",
       "      <th>0</th>\n",
       "      <td>b</td>\n",
       "      <td>ACTIVE</td>\n",
       "      <td>920080000720</td>\n",
       "    </tr>\n",
       "    <tr>\n",
       "      <th>1</th>\n",
       "      <td>NEVER USED</td>\n",
       "      <td>NEVER USED</td>\n",
       "      <td>920080000784</td>\n",
       "    </tr>\n",
       "    <tr>\n",
       "      <th>2</th>\n",
       "      <td>c</td>\n",
       "      <td>ACTIVE</td>\n",
       "      <td>920080000852</td>\n",
       "    </tr>\n",
       "    <tr>\n",
       "      <th>3</th>\n",
       "      <td>NEVER USED</td>\n",
       "      <td>NEVER USED</td>\n",
       "      <td>920080001626</td>\n",
       "    </tr>\n",
       "    <tr>\n",
       "      <th>4</th>\n",
       "      <td>d</td>\n",
       "      <td>INACTIVE</td>\n",
       "      <td>920080002982</td>\n",
       "    </tr>\n",
       "    <tr>\n",
       "      <th>5</th>\n",
       "      <td>b</td>\n",
       "      <td>ACTIVE</td>\n",
       "      <td>920080003478</td>\n",
       "    </tr>\n",
       "    <tr>\n",
       "      <th>6</th>\n",
       "      <td>b</td>\n",
       "      <td>ACTIVE</td>\n",
       "      <td>920080003540</td>\n",
       "    </tr>\n",
       "    <tr>\n",
       "      <th>7</th>\n",
       "      <td>a</td>\n",
       "      <td>ACTIVE</td>\n",
       "      <td>920080004196</td>\n",
       "    </tr>\n",
       "    <tr>\n",
       "      <th>8</th>\n",
       "      <td>a</td>\n",
       "      <td>ACTIVE</td>\n",
       "      <td>920080004730</td>\n",
       "    </tr>\n",
       "    <tr>\n",
       "      <th>9</th>\n",
       "      <td>c</td>\n",
       "      <td>ACTIVE</td>\n",
       "      <td>920080005682</td>\n",
       "    </tr>\n",
       "  </tbody>\n",
       "</table>\n",
       "</div>"
      ],
      "text/plain": [
       "  TIPOLOGIA DE CLIENTE   ACTIVIDAD   CUSTOMER ID\n",
       "0                    b      ACTIVE  920080000720\n",
       "1           NEVER USED  NEVER USED  920080000784\n",
       "2                    c      ACTIVE  920080000852\n",
       "3           NEVER USED  NEVER USED  920080001626\n",
       "4                    d    INACTIVE  920080002982\n",
       "5                    b      ACTIVE  920080003478\n",
       "6                    b      ACTIVE  920080003540\n",
       "7                    a      ACTIVE  920080004196\n",
       "8                    a      ACTIVE  920080004730\n",
       "9                    c      ACTIVE  920080005682"
      ]
     },
     "execution_count": 23,
     "metadata": {},
     "output_type": "execute_result"
    }
   ],
   "source": [
    "df_tipologias.head(10)"
   ]
  },
  {
   "cell_type": "markdown",
   "metadata": {},
   "source": [
    "<div>\n",
    "    <h1 id=\"Constuccion_de_indicadores\">Construcción de indicadores</h1>\n",
    "    <h4><a href=\"#INDICE\">INDICE</a></h4>\n",
    "</div>"
   ]
  },
  {
   "cell_type": "code",
   "execution_count": 105,
   "metadata": {},
   "outputs": [],
   "source": [
    "# creamos una copia de los datos\n",
    "df_datos = df.copy(deep=False)\n",
    "# Cambiamos el formato de la fecha\n",
    "df_datos['Purchase_Date'] = pd.to_datetime(df_datos['Purchase_Date'], format='%Y-%m-%d')\n",
    "# Extraemos el año de la fecha\n",
    "df_datos['Año'] = df_datos['Purchase_Date'].dt.year\n",
    "# Convertimos la columna en formato date\n",
    "df_datos['Purchase_Date'] = df_datos['Purchase_Date'].dt.date\n",
    "# Calculamos el margen suponiendo que la ganacia es un 40%\n",
    "df_datos['margen'] = df_datos['Purchase_Amount_euros']*0.40\n",
    "# Calculamos el gross contribution(GC)\n",
    "df_datos['GC'] = df_datos['Purchase_Amount_euros'] - df_datos['margen']\n",
    "# Calculamos t\n",
    "df_datos['t'] = df_datos['Año'].max()-df_datos['Año']\n",
    "# PCV por fila\n",
    "df_datos['PCV por fila'] = df_datos['GC'] * ((1/(1+0.1))**df_datos['t'])"
   ]
  },
  {
   "cell_type": "markdown",
   "metadata": {},
   "source": [
    "<div>\n",
    "    <h1 id = \"ELaboracion_Life_Time_Value\">Elaboración de Life Time Value</h1>\n",
    "    <h4><a href=\"#INDICE\">INDICE</a></h4>\n",
    "</div>"
   ]
  },
  {
   "cell_type": "markdown",
   "metadata": {},
   "source": [
    "<h3>Life Time Value</h3>\n",
    "<img src=\"Life Time Value.png\">\n",
    "<p>Esta es la formula que utilizamos para el calculo final.</p>"
   ]
  },
  {
   "cell_type": "code",
   "execution_count": 114,
   "metadata": {},
   "outputs": [],
   "source": [
    "pcv = df_datos.groupby('CUSTOMER ID').agg(pcv = ('PCV por fila','sum'),\n",
    "                                    suma_compra =('Purchase_Amount_euros','sum'),\n",
    "                                    suma_margen = ('margen','sum'),\n",
    "                                    date_max = ('Purchase_Date', 'max'),\n",
    "                                    date_min = ('Purchase_Date', 'min'),\n",
    "                                    Receipt_count = ('Receipt_Number', 'nunique')).reset_index()\n",
    "pcv['quintil_pcv'] = pd.qcut(pcv['pcv'], 5, labels=['pcv muy bajo', 'pcv bajo', 'pcv medio', 'pcv alto', 'pcv muy alto'])\n",
    "pcv= pd.merge(pcv, df_tipologias, on='CUSTOMER ID')"
   ]
  },
  {
   "cell_type": "markdown",
   "metadata": {},
   "source": [
    "<div>\n",
    "    <h1 id = \"Extraccion_de_informacion_clave\">Extracción de información clave</h1>\n",
    "    <h4><a href=\"#INDICE\">INDICE</a></h4>\n",
    "</div>"
   ]
  },
  {
   "cell_type": "code",
   "execution_count": 28,
   "metadata": {},
   "outputs": [
    {
     "data": {
      "text/html": [
       "<div>\n",
       "<style scoped>\n",
       "    .dataframe tbody tr th:only-of-type {\n",
       "        vertical-align: middle;\n",
       "    }\n",
       "\n",
       "    .dataframe tbody tr th {\n",
       "        vertical-align: top;\n",
       "    }\n",
       "\n",
       "    .dataframe thead th {\n",
       "        text-align: right;\n",
       "    }\n",
       "</style>\n",
       "<table border=\"1\" class=\"dataframe\">\n",
       "  <thead>\n",
       "    <tr style=\"text-align: right;\">\n",
       "      <th>TIPOLOGIA DE CLIENTE</th>\n",
       "      <th>a</th>\n",
       "      <th>b</th>\n",
       "      <th>c</th>\n",
       "      <th>d</th>\n",
       "      <th>All</th>\n",
       "    </tr>\n",
       "    <tr>\n",
       "      <th>quintil_pcv</th>\n",
       "      <th></th>\n",
       "      <th></th>\n",
       "      <th></th>\n",
       "      <th></th>\n",
       "      <th></th>\n",
       "    </tr>\n",
       "  </thead>\n",
       "  <tbody>\n",
       "    <tr>\n",
       "      <th>pcv muy bajo</th>\n",
       "      <td>0</td>\n",
       "      <td>0</td>\n",
       "      <td>103</td>\n",
       "      <td>418</td>\n",
       "      <td>521</td>\n",
       "    </tr>\n",
       "    <tr>\n",
       "      <th>pcv bajo</th>\n",
       "      <td>0</td>\n",
       "      <td>71</td>\n",
       "      <td>241</td>\n",
       "      <td>209</td>\n",
       "      <td>521</td>\n",
       "    </tr>\n",
       "    <tr>\n",
       "      <th>pcv medio</th>\n",
       "      <td>3</td>\n",
       "      <td>247</td>\n",
       "      <td>262</td>\n",
       "      <td>9</td>\n",
       "      <td>521</td>\n",
       "    </tr>\n",
       "    <tr>\n",
       "      <th>pcv alto</th>\n",
       "      <td>53</td>\n",
       "      <td>452</td>\n",
       "      <td>16</td>\n",
       "      <td>0</td>\n",
       "      <td>521</td>\n",
       "    </tr>\n",
       "    <tr>\n",
       "      <th>pcv muy alto</th>\n",
       "      <td>340</td>\n",
       "      <td>180</td>\n",
       "      <td>1</td>\n",
       "      <td>0</td>\n",
       "      <td>521</td>\n",
       "    </tr>\n",
       "    <tr>\n",
       "      <th>All</th>\n",
       "      <td>396</td>\n",
       "      <td>950</td>\n",
       "      <td>623</td>\n",
       "      <td>636</td>\n",
       "      <td>2605</td>\n",
       "    </tr>\n",
       "  </tbody>\n",
       "</table>\n",
       "</div>"
      ],
      "text/plain": [
       "TIPOLOGIA DE CLIENTE    a    b    c    d   All\n",
       "quintil_pcv                                   \n",
       "pcv muy bajo            0    0  103  418   521\n",
       "pcv bajo                0   71  241  209   521\n",
       "pcv medio               3  247  262    9   521\n",
       "pcv alto               53  452   16    0   521\n",
       "pcv muy alto          340  180    1    0   521\n",
       "All                   396  950  623  636  2605"
      ]
     },
     "execution_count": 28,
     "metadata": {},
     "output_type": "execute_result"
    }
   ],
   "source": [
    "tabla_cruzada = pd.crosstab(pcv['quintil_pcv'], pcv['TIPOLOGIA DE CLIENTE'], margins=True)\n",
    "tabla_cruzada"
   ]
  },
  {
   "cell_type": "code",
   "execution_count": 29,
   "metadata": {},
   "outputs": [
    {
     "name": "stdout",
     "output_type": "stream",
     "text": [
      "el valor de chi cudrado es 3305.537742883493\n",
      "el valor de p es 0.0\n",
      "Existe una relación significativa entre las variables.\n"
     ]
    }
   ],
   "source": [
    "# Se comprueba si la tipologia del cliente y la clasificacion por quintiles tienen una relación significativa\n",
    "import pandas as pd\n",
    "from scipy.stats import chi2_contingency\n",
    "chi2, p, dof, expected = chi2_contingency(tabla_cruzada)\n",
    "print('el valor de chi cudrado es',chi2)\n",
    "print('el valor de p es',p)\n",
    "if p < 0.05:\n",
    "    print(\"Existe una relación significativa entre las variables.\")\n",
    "else:\n",
    "    print(\"No existe una relación significativa entre las variables.\")"
   ]
  },
  {
   "cell_type": "code",
   "execution_count": 31,
   "metadata": {},
   "outputs": [
    {
     "data": {
      "image/png": "[encoded data removed]",
      "text/plain": [
       "<Figure size 720x432 with 1 Axes>"
      ]
     },
     "metadata": {
      "needs_background": "light"
     },
     "output_type": "display_data"
    }
   ],
   "source": [
    "import pandas as pd\n",
    "import matplotlib.pyplot as plt\n",
    "import seaborn as sns\n",
    "\n",
    "# Quintiles de acuerdo al numero de tickets de compra (Receipt_count)\n",
    "medias = pcv.groupby('quintil_pcv')['Receipt_count'].mean()\n",
    "plt.figure(figsize=(10, 6))\n",
    "sns.boxplot(x='quintil_pcv', y='Receipt_count', data=pcv, palette=\"viridis\", \n",
    "            width=0.6, showfliers=False, color='red')\n",
    "for i in range(len(medias)):\n",
    "    plt.plot([i, i], [medias[i], medias[i]], color='black', linestyle='--')\n",
    "for i, mean in enumerate(medias):\n",
    "    plt.text(i, mean, f'{mean:.2f}', ha='center', va='bottom')\n",
    "plt.ylabel('Número de tickets de compra')\n",
    "plt.savefig('D:\\Proyectos\\HTML\\proyecto2\\img\\p5.png', bbox_inches='tight')\n",
    "plt.show()"
   ]
  }
 ],
 "metadata": {
  "kernelspec": {
   "display_name": "base",
   "language": "python",
   "name": "python3"
  },
  "language_info": {
   "codemirror_mode": {
    "name": "ipython",
    "version": 3
   },
   "file_extension": ".py",
   "mimetype": "text/x-python",
   "name": "python",
   "nbconvert_exporter": "python",
   "pygments_lexer": "ipython3",
   "version": "3.9.7"
  }
 },
 "nbformat": 4,
 "nbformat_minor": 2
}
